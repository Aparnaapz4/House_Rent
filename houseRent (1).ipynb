{
 "cells": [
  {
   "cell_type": "code",
   "execution_count": null,
   "id": "440974d5-b298-4bf4-9f30-e5e92b65824c",
   "metadata": {},
   "outputs": [],
   "source": [
    "# Import Libraries\n",
    "import pandas as pd\n",
    "import matplotlib.pyplot as plt\n",
    "import seaborn as sns\n",
    "import sklearn\n",
    "import warnings\n",
    "import numpy as np\n",
    "import statistics\n",
    " \n",
    "from sklearn.preprocessing import LabelEncoder\n",
    "from sklearn.impute import KNNImputer\n",
    "from sklearn.model_selection import train_test_split\n",
    "from sklearn.preprocessing import StandardScaler\n",
    "from sklearn.metrics import f1_score\n",
    "from sklearn.ensemble import RandomForestRegressor\n",
    "from sklearn.ensemble import RandomForestRegressor\n",
    "from sklearn.model_selection import cross_val_score\n",
    "from sklearn.neighbors import KNeighborsRegressor\n",
    "\n",
    "from sklearn import neighbors\n",
    "from math import sqrt\n",
    " \n",
    "warnings.filterwarnings('ignore')\n",
    "\n"
   ]
  },
  {
   "cell_type": "code",
   "execution_count": null,
   "id": "8e8bca4c-adc6-4db2-9e9d-8c7f0897640e",
   "metadata": {},
   "outputs": [],
   "source": [
    "df = pd.read_csv('file__3.csv')\n",
    "print('The size of DataFrame is : ',df.size)\n",
    "print('The shape of DataFrame is : ',df.shape)"
   ]
  },
  {
   "cell_type": "code",
   "execution_count": null,
   "id": "455c43c3",
   "metadata": {},
   "outputs": [],
   "source": [
    "df.info()"
   ]
  },
  {
   "cell_type": "code",
   "execution_count": null,
   "id": "7656ed41-2508-4e76-b1f3-460ee55f0d7a",
   "metadata": {},
   "outputs": [],
   "source": [
    "df.drop(['Total Floor Count','Floor Number', 'bus_stop','school','Available From','Unit No'], axis=1, inplace=True)\n",
    "df.drop(['Unnamed: 0','Unnamed: 0.1','Tower/Block','City','Area','Listing Type','Deposit amount','Security Deposit','Age of Property (Years)','Building Type','Property Type'], axis=1, inplace=True)\n"
   ]
  },
  {
   "cell_type": "code",
   "execution_count": null,
   "id": "2f60c6f4",
   "metadata": {
    "scrolled": false
   },
   "outputs": [],
   "source": [
    "df.info()"
   ]
  },
  {
   "cell_type": "code",
   "execution_count": null,
   "id": "880c4374",
   "metadata": {},
   "outputs": [],
   "source": [
    "# df.drop(['bus_stop','school','Available From','Unit No'], axis=1, inplace=True)"
   ]
  },
  {
   "cell_type": "code",
   "execution_count": null,
   "id": "f8aac73e",
   "metadata": {},
   "outputs": [],
   "source": [
    "# df.drop(['Total Floor Count','Floor Number'], axis=1, inplace=True)"
   ]
  },
  {
   "cell_type": "code",
   "execution_count": null,
   "id": "df7c42ce",
   "metadata": {},
   "outputs": [],
   "source": [
    "# from sklearn.preprocessing import LabelEncoder\n",
    "# label_encoder = LabelEncoder()\n",
    "# for x in df:\n",
    "#     df[x] = label_encoder.fit_transform(df[x])"
   ]
  },
  {
   "cell_type": "code",
   "execution_count": null,
   "id": "e77b3eb8",
   "metadata": {},
   "outputs": [],
   "source": [
    "import plotly.express as px\n",
    "fig = px.scatter(df, x='Furnishing Status', y='Rent', title='Rent vs Furnishing Status',\n",
    "                 labels={'Furnishing Status': 'Furnishing Status', 'Rent': 'Rent'})\n",
    "fig.show()"
   ]
  },
  {
   "cell_type": "code",
   "execution_count": null,
   "id": "bd9bf54b",
   "metadata": {},
   "outputs": [],
   "source": [
    "import plotly.express as px\n",
    "fig = px.scatter(df, x='Additional Rooms', y='Rent', title='Rent vs Additional Rooms',\n",
    "                 labels={'Additional Rooms': 'Additional Roomss', 'Rent': 'Rent'})\n",
    "fig.show()"
   ]
  },
  {
   "cell_type": "code",
   "execution_count": null,
   "id": "0dac2507",
   "metadata": {},
   "outputs": [],
   "source": [
    "import plotly.express as px\n",
    "fig = px.scatter(df, x='Playgrounds1', y='Rent', title='Rent vs Playgrounds1',\n",
    "                 labels={'Playgrounds1': 'Playgrounds1', 'Rent': 'Rent'})\n",
    "fig.show()"
   ]
  },
  {
   "cell_type": "code",
   "execution_count": null,
   "id": "d4145103-7647-4400-bfa9-64dcb6613653",
   "metadata": {},
   "outputs": [],
   "source": [
    "from sklearn.preprocessing import LabelEncoder\n",
    "\n",
    "# Assuming df is your DataFrame\n",
    "\n",
    "# List of columns to encode\n",
    "columns_to_encode = ['Locality',\n",
    "     'Number of Rooms', 'Furnishing Status','Number of Bathroom', 'Covered Parking', \n",
    "    'Additional Rooms',  'View',\n",
    "     'Balcony', 'Open/Uncovered Parking', \n",
    "    'park1','crime','hospital']\n",
    "\n",
    "# Convert relevant columns to strings\n",
    "df[columns_to_encode] = df[columns_to_encode].astype(str)\n",
    "\n",
    "label_encoder = LabelEncoder()\n",
    "\n",
    "# Apply label encoding to each categorical column\n",
    "for column in columns_to_encode:\n",
    "    df[column] = label_encoder.fit_transform(df[column])\n",
    "\n",
    "# Now, your categorical columns are encoded\n"
   ]
  },
  {
   "cell_type": "code",
   "execution_count": null,
   "id": "043d6409",
   "metadata": {},
   "outputs": [],
   "source": [
    "df"
   ]
  },
  {
   "cell_type": "code",
   "execution_count": null,
   "id": "01736cc3-87ff-481e-bbe4-a3fecbb2e404",
   "metadata": {},
   "outputs": [],
   "source": [
    "\n",
    "features = [ 'Locality',\n",
    "     'Number of Rooms', 'Furnishing Status','Number of Bathroom', 'Covered Parking', \n",
    "    'Additional Rooms',  'View',\n",
    "    'Balcony', 'Open/Uncovered Parking', \n",
    "    'park1','Playgrounds1','crime','hospital']\n",
    "\n",
    "#X = dataFrame[features]\n",
    "y = df['Rent']\n",
    "X = df[features]\n",
    "# Printing the correlation coefficients:\n",
    "df.corr()\n",
    "variancey=statistics.variance(y)"
   ]
  },
  {
   "cell_type": "code",
   "execution_count": null,
   "id": "ea6f1cfd",
   "metadata": {},
   "outputs": [],
   "source": [
    "X.corr()"
   ]
  },
  {
   "cell_type": "code",
   "execution_count": null,
   "id": "a5092c34",
   "metadata": {
    "scrolled": false
   },
   "outputs": [],
   "source": [
    "import plotly.graph_objects as go\n",
    "import pandas as pd\n",
    "\n",
    "# Assuming df is your DataFrame\n",
    "corr_matrix = df.corr()\n",
    "\n",
    "fig = go.Figure(data=go.Heatmap(\n",
    "                   z=corr_matrix.values,\n",
    "                   x=corr_matrix.columns,\n",
    "                   y=corr_matrix.index,\n",
    "                   colorscale='icefire',\n",
    "                   colorbar=dict(title='Correlation')\n",
    "                ))\n",
    "\n",
    "fig.update_layout(title='Correlation Matrix',\n",
    "                  xaxis=dict(title='Features'),\n",
    "                  yaxis=dict(title='Features'),\n",
    "                  height=600,  # Set the height\n",
    "                  width=800    # Set the width\n",
    "                )\n",
    "\n",
    "fig.show()\n"
   ]
  },
  {
   "cell_type": "code",
   "execution_count": null,
   "id": "3d94764f-6be8-44d1-835d-c6ed033b2b4f",
   "metadata": {},
   "outputs": [],
   "source": [
    "#Split the data into training and test sets\n",
    "X_train, X_test, y_train, y_test = train_test_split(X, y, test_size = 0.30) "
   ]
  },
  {
   "cell_type": "code",
   "execution_count": null,
   "id": "92ace2c2",
   "metadata": {},
   "outputs": [],
   "source": [
    "X_test.shape"
   ]
  },
  {
   "cell_type": "code",
   "execution_count": null,
   "id": "4d4f1106-dffc-4b7a-900c-289c8a7201bc",
   "metadata": {},
   "outputs": [],
   "source": [
    "#K-Nearest Neighbors Regressor\n",
    "from sklearn.model_selection import train_test_split\n",
    "train , test = train_test_split(df, test_size = 0.3)\n",
    "x_train = train.drop('Rent', axis=1)\n",
    "y_train = train['Rent']\n",
    "x_test = test.drop('Rent', axis = 1)\n",
    "y_test = test['Rent']"
   ]
  },
  {
   "cell_type": "code",
   "execution_count": null,
   "id": "efa726ac-edcb-4cd8-b276-c6b8f468aced",
   "metadata": {},
   "outputs": [],
   "source": [
    "from sklearn.preprocessing import MinMaxScaler\n",
    "X_train, X_test, y_train, y_test = train_test_split(X, y, test_size = 0.30) \n",
    "scaler = MinMaxScaler(feature_range=(0, 1))\n",
    "\n",
    "x_train_scaled = scaler.fit_transform(x_train)\n",
    "x_train = pd.DataFrame(x_train_scaled)\n",
    "\n",
    "x_test_scaled = scaler.fit_transform(x_test)\n",
    "x_test = pd.DataFrame(x_test_scaled)"
   ]
  },
  {
   "cell_type": "code",
   "execution_count": null,
   "id": "2874a207",
   "metadata": {},
   "outputs": [],
   "source": [
    "# x_test"
   ]
  },
  {
   "cell_type": "code",
   "execution_count": null,
   "id": "a3eab5dd",
   "metadata": {},
   "outputs": [],
   "source": [
    "from sklearn.metrics import mean_squared_error"
   ]
  },
  {
   "cell_type": "code",
   "execution_count": null,
   "id": "d162d031-8281-49f9-ba2d-fa68104eff33",
   "metadata": {
    "scrolled": false
   },
   "outputs": [],
   "source": [
    "rmse_val = [] #to store rmse values for different k\n",
    "for K in range(10):\n",
    "    K = K+1\n",
    "    model = neighbors.KNeighborsRegressor(n_neighbors = K)\n",
    "\n",
    "    model.fit(X_train, y_train)  #fit the model\n",
    "    pred=model.predict(X_test) #make prediction on test set\n",
    "    error = sqrt(mean_squared_error(y_test,pred)) #calculate rmse\n",
    "    rmse_val.append(error) #store rmse values\n",
    "    print('RMSE value for k= ' , K , 'is:', error)\n",
    "    #plotting the rmse values against k values\n",
    "    curve = pd.DataFrame(rmse_val) #elbow curve \n",
    "    #curve.plot()"
   ]
  },
  {
   "cell_type": "code",
   "execution_count": null,
   "id": "9d4ec5a2-ddca-428b-a087-7235150b0b25",
   "metadata": {},
   "outputs": [],
   "source": [
    "model = neighbors.KNeighborsRegressor(n_neighbors = 3)\n",
    "model.fit(X_train, y_train)  #fit the model\n",
    "y_pred_knn=model.predict(X_test) #make prediction on test set\n",
    "#rmse = sqrt(mean_squared_error(y_test,pred)) #calculate rmse\n"
   ]
  },
  {
   "cell_type": "code",
   "execution_count": null,
   "id": "172fadd8-c545-4e21-8d19-978207001a68",
   "metadata": {
    "scrolled": true
   },
   "outputs": [],
   "source": [
    "# RMSE (Root Mean Square Error)\n",
    "rmse_knn = float(format(np.sqrt(mean_squared_error(y_test, y_pred_knn)),'.3f'))\n",
    "print(\"\\nRMSE:\",rmse_knn)"
   ]
  },
  {
   "cell_type": "code",
   "execution_count": null,
   "id": "3c5f78d4-10a8-4e02-8c6f-c71c5a1dd710",
   "metadata": {},
   "outputs": [],
   "source": [
    "r2_knn = 1-rmse_knn*rmse_knn/variancey\n",
    "print('R-squared: ',abs(r2_knn))"
   ]
  },
  {
   "cell_type": "code",
   "execution_count": null,
   "id": "83194441-c149-48d1-b954-ea7ddc4e6769",
   "metadata": {},
   "outputs": [],
   "source": [
    "from sklearn.metrics import mean_squared_error, mean_absolute_error\n",
    "import numpy as np\n",
    "mae_knn = mean_absolute_error(y_test, y_pred_knn)\n",
    "print(\"MAE:\", mae_knn)"
   ]
  },
  {
   "cell_type": "code",
   "execution_count": null,
   "id": "997b969c",
   "metadata": {},
   "outputs": [],
   "source": [
    "from sklearn.metrics import mean_squared_error\n",
    "import numpy as np\n",
    "\n",
    "# Assuming y_test and y_pred are your actual and predicted values, respectively\n",
    "mse_knn = mean_squared_error(y_test, y_pred_knn)\n",
    "\n",
    "\n",
    "print(\"MSE:\", mse_knn)\n"
   ]
  },
  {
   "cell_type": "code",
   "execution_count": null,
   "id": "6e883047",
   "metadata": {},
   "outputs": [],
   "source": [
    "from sklearn.preprocessing import MinMaxScaler\n",
    "\n",
    "# Your code using MinMaxScaler here\n",
    "\n",
    "\n",
    "X_train_array = X_train.to_numpy()\n",
    "X_test_array = X_test.to_numpy()\n",
    "\n",
    "# Scale the data using MinMaxScaler\n",
    "scaler = MinMaxScaler()\n",
    "X_train_scaled = scaler.fit_transform(X_train_array)\n",
    "X_test_scaled = scaler.transform(X_test_array)\n",
    "\n",
    "# Reshape the data to have 3D shape\n",
    "X_train_reshaped = X_train_scaled.reshape((X_train_scaled.shape[0], X_train_scaled.shape[1], 1))\n",
    "X_test_reshaped = X_test_scaled.reshape((X_test_scaled.shape[0], X_test_scaled.shape[1], 1))\n",
    "\n",
    "# X_train_reshaped = X_train_scaled.reshape((X_train_scaled.shape[0], -1))\n",
    "# X_test_reshaped = X_test_scaled.reshape((X_test_scaled.shape[0], -1))\n",
    "print(X_train_reshaped.shape)\n",
    "print(X_test_reshaped.shape)\n"
   ]
  },
  {
   "cell_type": "markdown",
   "id": "dfac4684-617d-417f-a0c2-b10952b1c685",
   "metadata": {},
   "source": [
    "#Long-Strong-Term mory (LSTM)"
   ]
  },
  {
   "cell_type": "code",
   "execution_count": null,
   "id": "f39f0a64-f882-48e1-8369-84d9731c91d5",
   "metadata": {},
   "outputs": [],
   "source": [
    "from keras.layers import LSTM\n",
    "from keras.models import Sequential\n",
    "from tensorflow.keras.layers import Activation, Dense, Dropout\n",
    "#from keras.layers.wrappers import TimeDistributed\n",
    "#from keras.layers.core import Dense, Activation, Dropout\n",
    "\n",
    "from sklearn.preprocessing import MinMaxScaler\n",
    "import time\n",
    "\n",
    "def get_reg_model(layer_units=[100,100],dropouts=[0.2,0.2],window_size=50):\n",
    "    # build LSTM network\n",
    "    model = Sequential()\n",
    "    \n",
    "    # hidden layer 1\n",
    "    model.add(LSTM(layer_units[0], \n",
    "                   input_shape=(window_size,1), \n",
    "                   return_sequences=True))\n",
    "    model.add(Dropout(dropouts[0]))\n",
    "    \n",
    "    # hidden layer 2\n",
    "    model.add(LSTM(layer_units[1]))\n",
    "    model.add(Dropout(dropouts[1]))\n",
    "    \n",
    "    # output layer\n",
    "    model.add(Dense(1))\n",
    "    model.add(Activation(\"linear\"))\n",
    "    \n",
    "    start = time.time()\n",
    "    model.compile(loss=\"mse\", optimizer=\"rmsprop\")\n",
    "    print(\"> Compilation Time : \", time.time() - start)\n",
    "    return model\n",
    "\n",
    "lstm_model=None\n",
    "try:\n",
    "    lstm_model = get_reg_model(layer_units=[5,100],\n",
    "                           window_size=5)   \n",
    "except:\n",
    "    print(\"Model Build Failed. Trying Again\")\n",
    "    lstm_model = get_reg_model(layer_units=[5,100],\n",
    "                           window_size=5)"
   ]
  },
  {
   "cell_type": "code",
   "execution_count": null,
   "id": "3fd109e0-ca9c-4478-9f18-00f25ecdd809",
   "metadata": {
    "scrolled": true
   },
   "outputs": [],
   "source": [
    "import keras\n",
    "from sklearn.metrics import mean_squared_error\n",
    "\n",
    "\n",
    "\n",
    "callbacks = [keras.callbacks.EarlyStopping(monitor='val_loss',\n",
    "                                           patience=2,\n",
    "                                           verbose=0)]\n",
    "\n",
    "\n",
    "lstm_model = Sequential()\n",
    "lstm_model.add(LSTM(units=50, input_shape=(X_train_reshaped.shape[1], X_train_reshaped.shape[2])))\n",
    "lstm_model.add(Dense(units=1))\n",
    "\n",
    "lstm_model.compile(optimizer='adam', loss='mean_squared_error')\n",
    "\n",
    "# Fit the model\n",
    "lstm_model.fit(X_train_reshaped, y_train, epochs=20, batch_size=16, verbose=1, validation_split=0.05, callbacks=callbacks)\n",
    "# lstm_model.fit(X_train, y_train, \n",
    "#                epochs=20, batch_size=16,\n",
    "#                verbose=1,validation_split=0.05,\n",
    "#                callbacks=callbacks)\n",
    "print(\"Model Fit Complete\")"
   ]
  },
  {
   "cell_type": "code",
   "execution_count": null,
   "id": "6279a14f",
   "metadata": {},
   "outputs": [],
   "source": [
    "y_pred_lstm = lstm_model.predict(X_test_reshaped)\n",
    "\n",
    "# Calculate mean squared error\n",
    "mse_lstm = mean_squared_error(y_test, y_pred_lstm)\n",
    "\n",
    "print(f'Mean Squared Error on Validation Set: {mse_lstm}')"
   ]
  },
  {
   "cell_type": "code",
   "execution_count": null,
   "id": "6d5702a4",
   "metadata": {},
   "outputs": [],
   "source": [
    "from sklearn.metrics import mean_squared_error, r2_score\n",
    "\n",
    "\n",
    "# Calculate root mean squared error\n",
    "rmse_lstm = np.sqrt(mse_lstm)\n",
    "\n",
    "print(f'Root Mean Squared Error on Test Set: {rmse_lstm}')"
   ]
  },
  {
   "cell_type": "code",
   "execution_count": null,
   "id": "fc691ab2",
   "metadata": {},
   "outputs": [],
   "source": [
    "r2_lstm = 1-rmse_lstm*rmse_lstm/variancey\n",
    "print('R-squared: ',abs(r2_lstm))"
   ]
  },
  {
   "cell_type": "code",
   "execution_count": null,
   "id": "616ded93-4bac-40b8-b90b-51027f100201",
   "metadata": {},
   "outputs": [],
   "source": [
    "mae_lstm = mean_absolute_error(y_test, y_pred_lstm)\n",
    "\n",
    "\n",
    "print(f'Mean Absolute Error on Test Set: {mae_lstm}')"
   ]
  },
  {
   "cell_type": "code",
   "execution_count": null,
   "id": "dd67ab06-8ff7-454f-9e87-e042ab48f731",
   "metadata": {},
   "outputs": [],
   "source": [
    "# Initializing the Random Forest Regression model with 10 decision trees\n",
    "model = RandomForestRegressor(n_estimators = 10, random_state = 0)\n"
   ]
  },
  {
   "cell_type": "code",
   "execution_count": null,
   "id": "6c433de7-ff1f-4b73-b2da-5378a0dc06cc",
   "metadata": {
    "scrolled": true
   },
   "outputs": [],
   "source": [
    "# Fitting the Random Forest Regression model to the data\n",
    "model.fit(X_train, y_train) "
   ]
  },
  {
   "cell_type": "code",
   "execution_count": null,
   "id": "ad0ed7b5-61c5-4b06-9385-7e427de19d41",
   "metadata": {},
   "outputs": [],
   "source": [
    "# Predicting the target values of the test set\n",
    "y_pred_rf = model.predict(X_test)"
   ]
  },
  {
   "cell_type": "code",
   "execution_count": null,
   "id": "091484a5-9d43-4a9d-82ca-e42fc8bd2dac",
   "metadata": {},
   "outputs": [],
   "source": [
    "# RMSE (Root Mean Square Error)\n",
    "from sklearn.metrics import mean_squared_error\n",
    "rmse_rf = float(format(np.sqrt(mean_squared_error(y_test, y_pred_rf)),'.3f'))\n",
    "print(\"\\nRMSE:\\n\",rmse_rf)"
   ]
  },
  {
   "cell_type": "code",
   "execution_count": null,
   "id": "5eff543c-c8a0-4108-a6c8-87b48edbbc52",
   "metadata": {},
   "outputs": [],
   "source": [
    "r2_rf = 1-rmse_rf*rmse_rf/statistics.variance(y)\n",
    "print(f'R-squared: {r2_rf}')"
   ]
  },
  {
   "cell_type": "code",
   "execution_count": null,
   "id": "466b942e",
   "metadata": {},
   "outputs": [],
   "source": [
    "from sklearn.metrics import mean_squared_error, mean_absolute_error\n",
    "import numpy as np\n",
    "mae_rf = mean_absolute_error(y_test, y_pred_rf)\n",
    "print(\"MAE:\", mae_rf)"
   ]
  },
  {
   "cell_type": "code",
   "execution_count": null,
   "id": "ee96ee0b",
   "metadata": {},
   "outputs": [],
   "source": [
    "from sklearn.metrics import mean_squared_error, mean_absolute_error\n",
    "import numpy as np\n",
    "\n",
    "\n",
    "mse_rf = mean_squared_error(y_test, y_pred_rf)\n",
    "\n",
    "\n",
    "print(\"MSE:\", mse_rf)\n"
   ]
  },
  {
   "cell_type": "code",
   "execution_count": null,
   "id": "fd80fbed",
   "metadata": {},
   "outputs": [],
   "source": [
    "size_of_data = len(X_train)"
   ]
  },
  {
   "cell_type": "code",
   "execution_count": null,
   "id": "4aac2fdf",
   "metadata": {},
   "outputs": [],
   "source": [
    "size_of_data"
   ]
  },
  {
   "cell_type": "code",
   "execution_count": null,
   "id": "4991e065",
   "metadata": {},
   "outputs": [],
   "source": [
    "X_train.iloc[500]"
   ]
  },
  {
   "cell_type": "code",
   "execution_count": null,
   "id": "93790e40",
   "metadata": {},
   "outputs": [],
   "source": [
    "a = model.predict(X_test.iloc[100].values.reshape(1, -1))\n"
   ]
  },
  {
   "cell_type": "code",
   "execution_count": null,
   "id": "04179bee",
   "metadata": {},
   "outputs": [],
   "source": [
    "y_test.iloc[100]"
   ]
  },
  {
   "cell_type": "code",
   "execution_count": null,
   "id": "aef18d3f",
   "metadata": {},
   "outputs": [],
   "source": [
    "a[0]"
   ]
  },
  {
   "cell_type": "code",
   "execution_count": null,
   "id": "1d558898",
   "metadata": {},
   "outputs": [],
   "source": [
    "import pickle\n",
    "with open('rf.pkl', 'wb') as file:\n",
    "    pickle.dump(model, file)"
   ]
  },
  {
   "cell_type": "code",
   "execution_count": null,
   "id": "4674e1cf",
   "metadata": {},
   "outputs": [],
   "source": [
    "# df.drop(['Property Type'], axis=1, inplace=True)"
   ]
  },
  {
   "cell_type": "code",
   "execution_count": null,
   "id": "4a53f8c3-5a65-46df-8046-b4e49cff0138",
   "metadata": {},
   "outputs": [],
   "source": [
    "!pip install xgboost"
   ]
  },
  {
   "cell_type": "code",
   "execution_count": null,
   "id": "2eb29a4c-9b34-48e7-9d74-85aac3e74a7c",
   "metadata": {},
   "outputs": [],
   "source": [
    "\n",
    "#XG boost\n",
    "\n",
    "\n",
    "from sklearn.ensemble import RandomForestRegressor, VotingRegressor\n",
    "from xgboost import XGBRegressor\n",
    "from sklearn.model_selection import train_test_split\n",
    "from sklearn.metrics import mean_squared_error\n",
    "import numpy as np\n",
    "\n",
    "# Generate some sample data\n",
    "np.random.seed(0)\n",
    "X = np.random.rand(100, 5)\n",
    "y = np.random.rand(100)\n",
    "\n",
    "# Split the data into training and testing sets\n",
    "X_train, X_test, y_train, y_test = train_test_split(X, y, test_size=0.2, random_state=42)\n",
    "\n",
    "# Create individual models\n",
    "rf_model = RandomForestRegressor(n_estimators=10, random_state=0)\n",
    "xgb_model = XGBRegressor(objective='reg:squarederror', max_depth=3, learning_rate=0.1, n_estimators=10, random_state=0)\n",
    "\n",
    "# Create a VotingRegressor with both models\n",
    "voting_regressor = VotingRegressor(estimators=[('rf', rf_model), ('xgb', xgb_model)])\n",
    "\n",
    "# Train the ensemble model\n",
    "voting_regressor.fit(X_train, y_train)\n",
    "\n",
    "# Make predictions\n",
    "y_pred_xgboost = voting_regressor.predict(X_test)\n",
    "\n",
    "# Calculate RMSE\n",
    "rmse_xgb = mean_squared_error(y_test, y_pred_xgboost, squared=False)\n",
    "print(f\"Root Mean Squared Error (RMSE): {rmse_xgb}\")\n"
   ]
  },
  {
   "cell_type": "code",
   "execution_count": null,
   "id": "1e9f8946",
   "metadata": {
    "scrolled": true
   },
   "outputs": [],
   "source": [
    "from sklearn.metrics import mean_squared_error, mean_absolute_error\n",
    "import numpy as np\n",
    "mae_xgb = mean_absolute_error(y_test, y_pred_xgboost)\n",
    "print(\"MAE:\", mae_xgb)"
   ]
  },
  {
   "cell_type": "code",
   "execution_count": null,
   "id": "a467295f",
   "metadata": {},
   "outputs": [],
   "source": [
    "r2_xgb = -(1-rmse_xgb*rmse_xgb/statistics.variance(y))\n",
    "print(f'R-squared: {r2_xgb}')"
   ]
  },
  {
   "cell_type": "code",
   "execution_count": null,
   "id": "5f3d4128",
   "metadata": {},
   "outputs": [],
   "source": [
    "from sklearn.metrics import mean_squared_error\n",
    "import numpy as np\n",
    "\n",
    "# Assuming y_test and y_pred are your actual and predicted values, respectively\n",
    "mse_xgb = mean_squared_error(y_test, y_pred_xgboost)\n",
    "\n",
    "\n",
    "print(\"MSE:\", mse_xgb)\n",
    "\n"
   ]
  },
  {
   "cell_type": "code",
   "execution_count": null,
   "id": "0605f553",
   "metadata": {},
   "outputs": [],
   "source": []
  }
 ],
 "metadata": {
  "kernelspec": {
   "display_name": "Python 3 (ipykernel)",
   "language": "python",
   "name": "python3"
  },
  "language_info": {
   "codemirror_mode": {
    "name": "ipython",
    "version": 3
   },
   "file_extension": ".py",
   "mimetype": "text/x-python",
   "name": "python",
   "nbconvert_exporter": "python",
   "pygments_lexer": "ipython3",
   "version": "3.11.5"
  }
 },
 "nbformat": 4,
 "nbformat_minor": 5
}
