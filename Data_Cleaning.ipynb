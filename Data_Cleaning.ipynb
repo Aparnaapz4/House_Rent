{
 "cells": [
  {
   "cell_type": "code",
   "execution_count": null,
   "id": "b42bee1a",
   "metadata": {},
   "outputs": [],
   "source": [
    "import pandas as pd\n",
    "import numpy as np\n",
    "from matplotlib import pyplot as plt"
   ]
  },
  {
   "cell_type": "code",
   "execution_count": null,
   "id": "4b8699ee",
   "metadata": {},
   "outputs": [],
   "source": [
    "df=pd.read_csv('house_rent_final.csv')\n",
    "df = df.fillna(0)"
   ]
  },
  {
   "cell_type": "code",
   "execution_count": null,
   "id": "9620bc1a",
   "metadata": {
    "scrolled": true
   },
   "outputs": [],
   "source": [
    "df"
   ]
  },
  {
   "cell_type": "code",
   "execution_count": null,
   "id": "693d0863",
   "metadata": {
    "scrolled": true
   },
   "outputs": [],
   "source": [
    "df.info()"
   ]
  },
  {
   "cell_type": "markdown",
   "id": "fbab862c",
   "metadata": {},
   "source": [
    "# data_cleaning"
   ]
  },
  {
   "cell_type": "code",
   "execution_count": null,
   "id": "03f07cd1",
   "metadata": {},
   "outputs": [],
   "source": [
    "def square_feet_to_square_yards(square_feet):\n",
    "    square_yards = int(square_feet) / 9.0\n",
    "    return round(square_yards)"
   ]
  },
  {
   "cell_type": "code",
   "execution_count": null,
   "id": "864cadfc",
   "metadata": {},
   "outputs": [],
   "source": [
    "def acres_to_square_yards(acres):\n",
    "    square_yards = int(acres) * 4840\n",
    "    return square_yards"
   ]
  },
  {
   "cell_type": "code",
   "execution_count": null,
   "id": "c9e7bb37",
   "metadata": {},
   "outputs": [],
   "source": [
    "def get_feet(area):\n",
    "    area=area.split('(')\n",
    "    area=area[0].split(' ')\n",
    "    return area"
   ]
  },
  {
   "cell_type": "code",
   "execution_count": null,
   "id": "a2a22c9d",
   "metadata": {},
   "outputs": [],
   "source": [
    "def get_area(a):\n",
    "\n",
    "    area_data=get_feet(a)\n",
    "    if area_data[1]=='Sq.Ft.':\n",
    "        converted_yard=square_feet_to_square_yards(area_data[0])\n",
    "    elif area_data[1]=='Acre':\n",
    "        converted_yard=acres_to_square_yards(area_data[0])\n",
    "    else:\n",
    "        converted_yard=area_data[0]\n",
    "    return converted_yard\n",
    "   "
   ]
  },
  {
   "cell_type": "code",
   "execution_count": null,
   "id": "30423dd9",
   "metadata": {},
   "outputs": [],
   "source": [
    "def convert_rent(a):\n",
    "    try:\n",
    "        rent_value = ''\n",
    "        if 'L' in a:\n",
    "            print('yes')\n",
    "            a = a.replace('L', '')\n",
    "            print(a)\n",
    "            a=a.strip()\n",
    "            a=int(a)\n",
    "            print(type(a),a)\n",
    "            print(a,'eurgvrb')\n",
    "            rent_value = int(a) * 100000 \n",
    "        else:\n",
    "            print('no')\n",
    "            a = a.replace(',', '')\n",
    "            rent_value = int(a)\n",
    "            \n",
    "#         if int(rent_value) <= 10000:\n",
    "#             print('Rent is less than or equal to 10000')\n",
    "#             rent.append(5000)\n",
    "#         elif 10000 < int(rent_value) <= 20000:\n",
    "#             print('Rent is between 10001 and 20000')\n",
    "#             rent.append(5000)\n",
    "#         elif 20000 < int(rent_value) <= 30000:\n",
    "#             print('Rent is between 20001 and 30000')\n",
    "#             rent.append(5000)\n",
    "#         elif 30000 < int(rent_value) <= 40000:\n",
    "#             print('Rent is between 30001 and 40000')\n",
    "#             rent.append(5000)\n",
    "#         elif 40000 < int(rent_value) <= 50000:\n",
    "#             print('Rent is between 40001 and 50000')\n",
    "#             rent.append(5000)\n",
    "#         elif 50000 < int(rent_value) <= 60000:\n",
    "#             print('Rent is between 50001 and 60000')\n",
    "#             rent.append(5000)\n",
    "#         elif 60000 < int(rent_value) <= 70000:\n",
    "#             print('Rent is between 60001 and 70000')\n",
    "#             rent.append(5000)\n",
    "#         elif 70000 < int(rent_value) <= 80000:\n",
    "#             print('Rent is between 70001 and 80000')\n",
    "#             rent.append(5000)\n",
    "#         elif 80000 < int(rent_value) <= 80000:\n",
    "#             print('Rent is between 80001 and 80000')\n",
    "#             rent.append(5000)\n",
    "#         elif 80000 < int(rent_value) <= 90000:\n",
    "#             print('Rent is between 80001 and 90000') \n",
    "#         elif 80000 < int(rent_value) <= 90000:\n",
    "#             print('Rent is between 90001 and 99999') \n",
    "#         else:\n",
    "#             print('Rent is greater than 100000')     \n",
    "\n",
    "        return rent_value\n",
    "    except Exception as e:\n",
    "        print(f\"Error: {e}\")\n",
    "        return 0 \n"
   ]
  },
  {
   "cell_type": "code",
   "execution_count": null,
   "id": "4ad714c2",
   "metadata": {
    "scrolled": true
   },
   "outputs": [],
   "source": [
    "rent=[]\n",
    "for x in range(len(df)):\n",
    "    \n",
    "#     converted_yard=get_area(df.iloc[x]['Area'])\n",
    "#      yard.append(converted_yard)\n",
    "#     print(type(df.iloc[x]['Rent']))\n",
    "    rent_value = df.iloc[x]['Rent']\n",
    "    converted_rent = convert_rent(rent_value)\n",
    "    print(x, converted_rent, 'done')\n",
    "    rent.append(converted_rent)\n",
    "    "
   ]
  },
  {
   "cell_type": "code",
   "execution_count": null,
   "id": "731bb0aa",
   "metadata": {
    "scrolled": true
   },
   "outputs": [],
   "source": [
    "rent=[]\n",
    "for x in range(len(df)):\n",
    "    print(x)\n",
    "    a=df.iloc[x]['Rent']\n",
    "    try:\n",
    "        rent_value = ''\n",
    "        if 'L' in a:\n",
    "            print('yes')\n",
    "            a=a.strip()\n",
    "            a = a.replace('L', '')\n",
    "            print(a)\n",
    "            \n",
    "            a=int(a)\n",
    "            print(type(a),a)\n",
    "            print(a,'eurgvrb')\n",
    "                \n",
    "            rent_value = int(a) * 100000 \n",
    "            rent.append(rent_value)\n",
    "        else:\n",
    "            print('no')\n",
    "            a = a.replace(',', '')\n",
    "            rent_value = int(a)\n",
    "            rent.append(rent_value)\n",
    "    except Exception as e:\n",
    "            rent.append(0)\n",
    "            print(f\"Error: {e}\")\n"
   ]
  },
  {
   "cell_type": "code",
   "execution_count": null,
   "id": "d293093a",
   "metadata": {},
   "outputs": [],
   "source": [
    "rent"
   ]
  },
  {
   "cell_type": "code",
   "execution_count": null,
   "id": "8ef523b1",
   "metadata": {},
   "outputs": [],
   "source": [
    "df.iloc[33]"
   ]
  },
  {
   "cell_type": "code",
   "execution_count": null,
   "id": "9397baf4",
   "metadata": {},
   "outputs": [],
   "source": [
    "df['Rent']=rent"
   ]
  },
  {
   "cell_type": "code",
   "execution_count": null,
   "id": "4206d8d0",
   "metadata": {
    "scrolled": true
   },
   "outputs": [],
   "source": [
    "df"
   ]
  },
  {
   "cell_type": "code",
   "execution_count": null,
   "id": "48181a30",
   "metadata": {},
   "outputs": [],
   "source": [
    "df.to_csv('file1.csv')"
   ]
  },
  {
   "cell_type": "code",
   "execution_count": null,
   "id": "dcca05aa",
   "metadata": {},
   "outputs": [],
   "source": [
    "import pandas as pd\n",
    "import numpy as np\n",
    "from matplotlib import pyplot as plt"
   ]
  },
  {
   "cell_type": "code",
   "execution_count": null,
   "id": "6ecb0076",
   "metadata": {},
   "outputs": [],
   "source": [
    "bus_stop=pd.read_csv('bus_stop.csv')\n",
    "school=pd.read_csv('school.csv')\n",
    "bus_stop = bus_stop.fillna(0)\n",
    "school = school.fillna(0)"
   ]
  },
  {
   "cell_type": "code",
   "execution_count": null,
   "id": "42b61eef",
   "metadata": {},
   "outputs": [],
   "source": [
    "df"
   ]
  },
  {
   "cell_type": "code",
   "execution_count": null,
   "id": "9edd1e98",
   "metadata": {},
   "outputs": [],
   "source": [
    "school"
   ]
  },
  {
   "cell_type": "code",
   "execution_count": null,
   "id": "2e2f1eda",
   "metadata": {},
   "outputs": [],
   "source": [
    "df=pd.read_csv('house_rent_final.csv')"
   ]
  },
  {
   "cell_type": "code",
   "execution_count": null,
   "id": "a6cc39ee",
   "metadata": {},
   "outputs": [],
   "source": [
    "df"
   ]
  },
  {
   "cell_type": "code",
   "execution_count": null,
   "id": "42028e60",
   "metadata": {},
   "outputs": [],
   "source": [
    "temp=df['Locality'].values.flatten().tolist()"
   ]
  },
  {
   "cell_type": "code",
   "execution_count": null,
   "id": "91a73f2c",
   "metadata": {},
   "outputs": [],
   "source": [
    "temp"
   ]
  },
  {
   "cell_type": "code",
   "execution_count": null,
   "id": "53812a5d",
   "metadata": {},
   "outputs": [],
   "source": [
    "bus_stop=pd.read_csv('bus_stop.csv')\n",
    "school=pd.read_csv('school.csv')\n",
    "bus_stop = bus_stop.fillna(0)\n",
    "school = school.fillna(0)"
   ]
  },
  {
   "cell_type": "code",
   "execution_count": null,
   "id": "fa0707fc",
   "metadata": {},
   "outputs": [],
   "source": [
    "school=school[['Cluster', 'Block', 'Assembly', 'District']]\n",
    "school"
   ]
  },
  {
   "cell_type": "code",
   "execution_count": null,
   "id": "0f88d5a2",
   "metadata": {},
   "outputs": [],
   "source": [
    "Cluster=school['Cluster']"
   ]
  },
  {
   "cell_type": "code",
   "execution_count": null,
   "id": "3994a4ea",
   "metadata": {},
   "outputs": [],
   "source": [
    "Cluster=school['Cluster'].values.flatten().tolist()\n",
    "Block=school['Block'].values.flatten().tolist()\n",
    "Assembly=school['Assembly'].values.flatten().tolist()\n",
    "District=school['District'].values.flatten().tolist()"
   ]
  },
  {
   "cell_type": "code",
   "execution_count": null,
   "id": "ed967180",
   "metadata": {},
   "outputs": [],
   "source": [
    "Cluster"
   ]
  },
  {
   "cell_type": "code",
   "execution_count": null,
   "id": "7406527c",
   "metadata": {},
   "outputs": [],
   "source": [
    "District_ = list(set(District))\n",
    "\n",
    "# If you need to maintain the original order, you can use a loop and a new list:\n",
    "District = []\n",
    "for item in District_:\n",
    "    if item not in District:\n",
    "        District.append(item)\n",
    "        \n",
    "Cluster_ = list(set(Cluster))\n",
    "\n",
    "# If you need to maintain the original order, you can use a loop and a new list:\n",
    "Cluster = []\n",
    "for item in Cluster_:\n",
    "    if item not in Cluster:\n",
    "        Cluster.append(item)\n",
    "        \n",
    "Block_ = list(set(Block))\n",
    "\n",
    "# If you need to maintain the original order, you can use a loop and a new list:\n",
    "Block = []\n",
    "for item in Block_:\n",
    "    if item not in Block:\n",
    "        Block.append(item)\n",
    "        \n",
    "        \n",
    "Assembly_ = list(set(Assembly))\n",
    "\n",
    "# If you need to maintain the original order, you can use a loop and a new list:\n",
    "Assembly = []\n",
    "for item in Assembly_:\n",
    "    if item not in Assembly:\n",
    "        Assembly.append(item)        "
   ]
  },
  {
   "cell_type": "code",
   "execution_count": null,
   "id": "c54cd2e4",
   "metadata": {},
   "outputs": [],
   "source": [
    "len(District)"
   ]
  },
  {
   "cell_type": "code",
   "execution_count": null,
   "id": "899f7795",
   "metadata": {},
   "outputs": [],
   "source": [
    "df=pd.read_csv('house_rent_final.csv')"
   ]
  },
  {
   "cell_type": "code",
   "execution_count": null,
   "id": "2dee739d",
   "metadata": {},
   "outputs": [],
   "source": [
    "# # Cluster=Cluster\n",
    "# # Block=Block\n",
    "# # District=District\n",
    "# Assembly=Assembly\n",
    "result_list = []\n",
    "\n",
    "for x in range(len(temp)):\n",
    "    \n",
    "    if temp[x] == District:\n",
    "        result_list.append(1)\n",
    "        \n",
    "    elif temp[x] == Cluster:\n",
    "        result_list.append(1)\n",
    "        \n",
    "    elif temp[x] == Block:\n",
    "        result_list.append(1)\n",
    "        \n",
    "    elif temp[x] == Assembly:\n",
    "        result_list.append(1)\n",
    "        \n",
    "    else:\n",
    "        result_list.append(0)\n",
    "\n"
   ]
  },
  {
   "cell_type": "code",
   "execution_count": null,
   "id": "c4a78270",
   "metadata": {},
   "outputs": [],
   "source": [
    "count_1 = result_list.count(1)\n",
    "count_0 = result_list.count(0)\n",
    "\n",
    "print(f\"Count of 1: {count_1}\")\n",
    "print(f\"Count of 0: {count_0}\")"
   ]
  },
  {
   "cell_type": "code",
   "execution_count": null,
   "id": "91be7d10",
   "metadata": {},
   "outputs": [],
   "source": [
    "bus_stop=bus_stop['Ward Name'].values.flatten().tolist()"
   ]
  },
  {
   "cell_type": "code",
   "execution_count": null,
   "id": "aa25a9ef",
   "metadata": {},
   "outputs": [],
   "source": [
    "bus_stop_ = list(set(bus_stop))\n",
    "\n",
    "# If you need to maintain the original order, you can use a loop and a new list:\n",
    "bus_stop = []\n",
    "for item in bus_stop_:\n",
    "    if item not in bus_stop:\n",
    "        bus_stop.append(item)"
   ]
  },
  {
   "cell_type": "code",
   "execution_count": null,
   "id": "38f99b88",
   "metadata": {},
   "outputs": [],
   "source": [
    "bus_stop"
   ]
  },
  {
   "cell_type": "code",
   "execution_count": null,
   "id": "476870f2",
   "metadata": {},
   "outputs": [],
   "source": [
    "\n",
    "bus_stop = []\n",
    "for x in range(len(temp)):\n",
    "    if temp[x] == bus_stop:\n",
    "        bus_stop.append(1)\n",
    "    else:\n",
    "        bus_stop.append(0)"
   ]
  },
  {
   "cell_type": "code",
   "execution_count": null,
   "id": "796b0eb1",
   "metadata": {},
   "outputs": [],
   "source": [
    "count_1 = bus_stop.count(1)\n",
    "count_0 = bus_stop.count(0)\n",
    "\n",
    "print(f\"Count of 1: {count_1}\")\n",
    "print(f\"Count of 0: {count_0}\")"
   ]
  },
  {
   "cell_type": "code",
   "execution_count": null,
   "id": "721f513c",
   "metadata": {},
   "outputs": [],
   "source": [
    "park=pd.read_csv('park.csv')"
   ]
  },
  {
   "cell_type": "code",
   "execution_count": null,
   "id": "7002662f",
   "metadata": {},
   "outputs": [],
   "source": [
    "park=park['Ward Name'].values.flatten().tolist()"
   ]
  },
  {
   "cell_type": "code",
   "execution_count": null,
   "id": "0e2c2837",
   "metadata": {},
   "outputs": [],
   "source": [
    "len(park)"
   ]
  },
  {
   "cell_type": "code",
   "execution_count": null,
   "id": "2e43ba35",
   "metadata": {},
   "outputs": [],
   "source": [
    "park_ = list(set(park))\n",
    "\n",
    "# If you need to maintain the original order, you can use a loop and a new list:\n",
    "park = []\n",
    "for item in park_:\n",
    "    if item not in park:\n",
    "        park.append(item)"
   ]
  },
  {
   "cell_type": "code",
   "execution_count": null,
   "id": "a9a2e0ce",
   "metadata": {},
   "outputs": [],
   "source": [
    "park1 = [1 if x in park else 0 for x in temp]"
   ]
  },
  {
   "cell_type": "code",
   "execution_count": null,
   "id": "7894e7eb",
   "metadata": {},
   "outputs": [],
   "source": [
    "count_1 = park1.count(1)\n",
    "count_0 = park1.count(0)\n",
    "\n",
    "print(f\"Count of 1: {count_1}\")\n",
    "print(f\"Count of 0: {count_0}\")"
   ]
  },
  {
   "cell_type": "code",
   "execution_count": null,
   "id": "86dc6849",
   "metadata": {},
   "outputs": [],
   "source": [
    "Playgrounds=pd.read_csv('Playgrounds.csv')\n",
    "Playgrounds=Playgrounds['Ward Name'].values.flatten().tolist()\n",
    "len(Playgrounds)"
   ]
  },
  {
   "cell_type": "code",
   "execution_count": null,
   "id": "21754b53",
   "metadata": {},
   "outputs": [],
   "source": [
    "Playgrounds"
   ]
  },
  {
   "cell_type": "code",
   "execution_count": null,
   "id": "1b238ffe",
   "metadata": {},
   "outputs": [],
   "source": [
    "Playgrounds_ = list(set(Playgrounds))\n",
    "\n",
    "# If you need to maintain the original order, you can use a loop and a new list:\n",
    "Playgrounds = []\n",
    "for item in Playgrounds_:\n",
    "    if item not in Playgrounds:\n",
    "        Playgrounds.append(item)"
   ]
  },
  {
   "cell_type": "code",
   "execution_count": null,
   "id": "df4ba502",
   "metadata": {},
   "outputs": [],
   "source": [
    "Playgrounds1 = [1 if x in Playgrounds else 0 for x in temp]"
   ]
  },
  {
   "cell_type": "code",
   "execution_count": null,
   "id": "cb775025",
   "metadata": {},
   "outputs": [],
   "source": [
    "len(Playgrounds1)"
   ]
  },
  {
   "cell_type": "code",
   "execution_count": null,
   "id": "33fd2a69",
   "metadata": {},
   "outputs": [],
   "source": [
    "count_1 = Playgrounds1.count(1)\n",
    "count_0 = Playgrounds1.count(0)\n",
    "\n",
    "print(f\"Count of 1: {count_1}\")\n",
    "print(f\"Count of 0: {count_0}\")"
   ]
  },
  {
   "cell_type": "code",
   "execution_count": null,
   "id": "d4869f03",
   "metadata": {},
   "outputs": [],
   "source": [
    "school=result_list"
   ]
  },
  {
   "cell_type": "code",
   "execution_count": null,
   "id": "44ebc1bc",
   "metadata": {},
   "outputs": [],
   "source": [
    "df['school']=school\n",
    "df['bus_stop']=bus_stop\n",
    "df['park1']=park1\n",
    "df['Playgrounds1']=Playgrounds1"
   ]
  },
  {
   "cell_type": "code",
   "execution_count": null,
   "id": "12a4ed1c",
   "metadata": {},
   "outputs": [],
   "source": [
    "df"
   ]
  },
  {
   "cell_type": "code",
   "execution_count": null,
   "id": "4c4dc082",
   "metadata": {},
   "outputs": [],
   "source": [
    "df"
   ]
  },
  {
   "cell_type": "code",
   "execution_count": null,
   "id": "45c1fc90",
   "metadata": {},
   "outputs": [],
   "source": [
    "df.to_csv('file__3.csv')"
   ]
  },
  {
   "cell_type": "code",
   "execution_count": null,
   "id": "9d38d2d9",
   "metadata": {},
   "outputs": [],
   "source": []
  },
  {
   "cell_type": "code",
   "execution_count": null,
   "id": "0b06f56f",
   "metadata": {},
   "outputs": [],
   "source": []
  }
 ],
 "metadata": {
  "kernelspec": {
   "display_name": "Python 3 (ipykernel)",
   "language": "python",
   "name": "python3"
  },
  "language_info": {
   "codemirror_mode": {
    "name": "ipython",
    "version": 3
   },
   "file_extension": ".py",
   "mimetype": "text/x-python",
   "name": "python",
   "nbconvert_exporter": "python",
   "pygments_lexer": "ipython3",
   "version": "3.11.5"
  }
 },
 "nbformat": 4,
 "nbformat_minor": 5
}
